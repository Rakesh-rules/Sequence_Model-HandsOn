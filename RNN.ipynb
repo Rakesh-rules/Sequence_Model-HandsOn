{
 "cells": [
  {
   "cell_type": "markdown",
   "id": "f0f3c3ad",
   "metadata": {},
   "source": [
    "# Sequence Models"
   ]
  },
  {
   "cell_type": "markdown",
   "id": "61b17fc8",
   "metadata": {},
   "source": [
    "- Like speech recognition to text, Music generation, text prediction, sentiment analysis, DNA sequence analysis, Machine translation(language translation), video activity recognition and name entity recognition (find names from sentence), etc.\n",
    "\n",
    "\n",
    "## Representing Words\n",
    "\n",
    "- A vocabulary is used, consisting of Common words used in language.The size of this vocabulary can vary based on the projects or company.\n",
    "- This vocabulary is represented as a **one hot vector**, Which is Array of Zeros and only the index of the word will get the value one.\n",
    "- The words, which are not available in the vocabulary Are marked with <unk>\n",
    "\n",
    "![](https://cdn-images-1.medium.com/max/800/1*YFh3GZ41PgQWAnB_LfmJVw.png)\n",
    "\n",
    "## Simplified RNN notation\n",
    "\n",
    "- When the neural network reads the sentence, It feeds on the first word _X<sup><1></sup>_ and outputs the result _Y<sup><1></sup>_. At next timestamp it reads on the next word and proceeds.\n",
    "\n",
    "    ![](http://persagen.com/files/misc/unfolded-RNN.png)\n",
    "\n",
    "- **tanh** or **Relu** is used for activation function on _h<sub>t</sub>_. tanh is a common choice. Activation function for _Y<sub>`<t>`</sub>_ is based on its problem kind, for example sigmoid is used for binary classification.\n",
    "\n",
    "    ![](https://www.yuthon.com/images/RNN_concept.png)\n",
    "\n",
    "\n",
    "### Forward Propagation\n",
    "\n",
    "- _f<sub>w</sub>_ is formed by stacking _W<sub>hh</sub>_ and _W<sub>xh</sub>_ side by side forming a matrix.\n",
    "\n",
    "- _b<sub>y</sub>_ is a bias value added to this equation.\n",
    "\n",
    "    ![](https://external-content.duckduckgo.com/iu/?u=https%3A%2F%2Fi.stack.imgur.com%2FEtV8U.png&f=1&nofb=1)\n",
    "\n",
    "### Back Propagation through time\n",
    "\n",
    "- Mostly DL frameworks takes care of backpropagation.\n",
    "\n",
    "- The loss function is defined as the logistic regression loss (cross-entropy loss) for each time step, the total loss would be a summation of them.\n",
    "\n",
    "- The backpropagation is done similarly like standard networks but done for each time stamp allowing to update parameters along each word. As this backpropagation along the timestamp is significant is known as backpropagation through time.\n",
    "\n",
    "    ![](https://raw.githubusercontent.com/mmuratarat/mmuratarat.github.io/master/_posts/images/BPTT.png)\n",
    "\n",
    "## Types of RNN\n",
    "\n",
    "1. One-to-Many\n",
    "\n",
    "   - Pass single value and the network provides a series of outputs\n",
    "   - Eg. Music Generation\n",
    "\n",
    "1. Many-to-Many\n",
    "\n",
    "   - Input and output length may or may not be exactly same.\n",
    "   - Eg. Machine translation - Translation from one language which has different lengths for input and output.\n",
    "   - Here, The input is handled by a encoder that gets the input from one language with many words and the output will be provided by a decoder with many words of same or different length.\n",
    "\n",
    "1. One-to-One\n",
    "   - Need not be RNN, might be a simple Neural network.\n",
    "\n",
    "1. Many-to-One\n",
    "   - Takes all(many) input and provides one output at the end. \n",
    "   - Eg. Sentiment analysis, text classification.\n",
    "\n",
    "    ![](https://static.javatpoint.com/tutorial/tensorflow/images/tensorflow-types-of-rnn.png)"
   ]
  },
  {
   "cell_type": "markdown",
   "id": "7b2e8004",
   "metadata": {},
   "source": [
    "# Language Model"
   ]
  },
  {
   "cell_type": "markdown",
   "id": "d95c7a3a",
   "metadata": {},
   "source": [
    "- To build such a model in RNN, we need a training set of\n",
    "  large corpus of english text. **_Corpus_** is a NLP terminology that means a very large set or body of text or sentences.\n",
    "- First we need to tokenize the sentences and form a **_vocabulary_** of known words.\n",
    "- While modelling, common thing is to add one more token `<eos>` to _represent the **end of the sentence**_. we can also decide whether to tokenize _punctuations_.\n",
    "- Another details is that we can use `<unk>` or any unique token for _**unknown words** that are not present in vocabulary_. Say we have 10,000 most used words in english as vocabulary, we can use `<unk>` for other words.\n",
    "\n",
    "![](https://miro.medium.com/max/1134/1*lhH8dFbK5_saNe4kcWXwiA.png)"
   ]
  },
  {
   "cell_type": "markdown",
   "id": "099fb669",
   "metadata": {},
   "source": [
    "# RNN Model"
   ]
  },
  {
   "cell_type": "markdown",
   "id": "ad80fe44",
   "metadata": {},
   "source": [
    "- We might end up setting input $x^{<t>} = y^{<t-1>}$. i.e, _the output of previous timestamp as the next input_.\n",
    "- $\\hat{y}^{<t>}$ is a 10000 way **_softmax output_**, if you have a 10000 word vocabulary.\n",
    "- Each step of _RNN will look at some set of preceding words_. So, the RNN learns to predict one word at a time going from left to right.\n",
    "- Next to train this Network, we _need a cost function_. Here, we can define a softmax loss function for the softmax prediction $\\hat{y}^{<t>}$ and the true word $y^{<t>}$. And the overall loss would be the sum of loss predicted for all timestamps.\n",
    "- At each step the model predicts the probability of the word at that step given the previous outputs\n",
    "\n",
    "## Character-level RNN\n",
    "\n",
    "- Depending on the application need we might build a character level or RNN, Where there vocabulary is alphabets (a-z), space, punctuation or even upper case letters if needed.\n",
    "- The output $\\hat{y}^{<t>}$ is the individual characters rather then individual words.\n",
    "- They can assign the unknown words with non-zero probability as they predict words but the disadvantage is we end up with much longer sequences. Hence, character-level models are not good as the word-level models in catching long range dependencies and computationally expensive to train."
   ]
  },
  {
   "cell_type": "markdown",
   "id": "f55ebf3f",
   "metadata": {},
   "source": [
    "## Character-wise RNN"
   ]
  },
  {
   "cell_type": "code",
   "execution_count": 1,
   "id": "9aa418d8",
   "metadata": {},
   "outputs": [
    {
     "name": "stderr",
     "output_type": "stream",
     "text": [
      "/home/sannin/miniconda3/envs/torch/lib/python3.8/site-packages/tqdm/auto.py:22: TqdmWarning: IProgress not found. Please update jupyter and ipywidgets. See https://ipywidgets.readthedocs.io/en/stable/user_install.html\n",
      "  from .autonotebook import tqdm as notebook_tqdm\n"
     ]
    }
   ],
   "source": [
    "import torch\n",
    "import torchvision                          # torch package for vision related things\n",
    "import torch.nn.functional as F             # Parameterless functions, like (some) activation functions\n",
    "import torchvision.datasets as datasets     # Standard datasets\n",
    "import torchvision.transforms as transforms # Transformations we can perform on our dataset for augmentation\n",
    "from torch import optim                     # For optimizers like SGD, Adam, etc.\n",
    "from torch import nn                        # All neural network modules\n",
    "from torch.utils.data import DataLoader     # Gives easier dataset management by creating mini batches etc.\n",
    "from tqdm import tqdm                       # For a nice progress bar!\n",
    "import matplotlib.pyplot as plt             # For Plots"
   ]
  },
  {
   "cell_type": "code",
   "execution_count": 2,
   "id": "c99215d2",
   "metadata": {},
   "outputs": [],
   "source": [
    "!mkdir -p Datasets/Character-RNN"
   ]
  },
  {
   "cell_type": "code",
   "execution_count": 3,
   "id": "0081ee19",
   "metadata": {},
   "outputs": [
    {
     "name": "stdout",
     "output_type": "stream",
     "text": [
      "Archive:  Datasets/Character-RNN/data.zip\n",
      "replace Datasets/Character-RNN/data/eng-fra.txt? [y]es, [n]o, [A]ll, [N]one, [r]ename: ^C\n"
     ]
    }
   ],
   "source": [
    "# !wget https://download.pytorch.org/tutorial/data.zip -P Datasets/Character-RNN\n",
    "!unzip Datasets/Character-RNN/data.zip -d Datasets/Character-RNN/"
   ]
  },
  {
   "cell_type": "code",
   "execution_count": 4,
   "id": "30ec6f05",
   "metadata": {},
   "outputs": [
    {
     "name": "stdout",
     "output_type": "stream",
     "text": [
      "Arabic\n",
      "5000 5.0 2.1064 Yun / Korean CORRECT\n",
      "10000 10.0 1.9542 Jedlicka / Czech CORRECT\n",
      "15000 15.0 1.5433 Ly / Korean WRONG (Vietnamese)\n",
      "20000 20.0 2.0763 Rana / Spanish CORRECT\n",
      "25000 25.0 1.6493 Otten / Dutch CORRECT\n",
      "30000 30.0 1.2962 Tolbert / French CORRECT\n",
      "35000 35.0 0.1642 Komatsuzaki / Japanese CORRECT\n",
      "40000 40.0 2.1111 Lacey / Czech WRONG (English)\n",
      "45000 45.0 0.3270 Orsini / Italian CORRECT\n",
      "50000 50.0 2.3446 Stabile / French WRONG (Italian)\n",
      "55000 55.00000000000001 1.4544 Lambton / French WRONG (English)\n",
      "60000 60.0 1.9189 Abt / German CORRECT\n",
      "65000 65.0 1.2884 Desrochers / Greek WRONG (French)\n",
      "70000 70.0 2.4063 Mata / Japanese WRONG (Portuguese)\n",
      "75000 75.0 0.5201 Yuasa / Japanese CORRECT\n",
      "80000 80.0 1.7281 Maurice / French WRONG (Irish)\n",
      "85000 85.0 0.7614 Bao / Chinese CORRECT\n",
      "90000 90.0 1.7565 Ariwara / Czech WRONG (Japanese)\n",
      "95000 95.0 3.9259 Gravari / Italian WRONG (Greek)\n",
      "100000 100.0 0.0538 Gwozdek / Polish CORRECT\n"
     ]
    },
    {
     "data": {
      "image/png": "[encoded data removed]",
      "text/plain": [
       "<Figure size 432x288 with 1 Axes>"
      ]
     },
     "metadata": {
      "needs_background": "light"
     },
     "output_type": "display_data"
    }
   ],
   "source": [
    "from utils import ALL_LETTERS, N_LETTERS\n",
    "from utils import load_data, letter_to_tensor, line_to_tensor, random_training_example\n",
    "\n",
    "\n",
    "class RNN(nn.Module):\n",
    "    # implement RNN from scratch rather than using nn.RNN\n",
    "    def __init__(self, input_size, hidden_size, output_size):\n",
    "        super(RNN, self).__init__()\n",
    "        \n",
    "        self.hidden_size = hidden_size\n",
    "        self.i2h = nn.Linear(input_size + hidden_size, hidden_size)\n",
    "        self.i2o = nn.Linear(input_size + hidden_size, output_size)\n",
    "        self.softmax = nn.LogSoftmax(dim=1)\n",
    "        \n",
    "    def forward(self, input_tensor, hidden_tensor):\n",
    "        combined = torch.cat((input_tensor, hidden_tensor), 1)\n",
    "        \n",
    "        hidden = self.i2h(combined)\n",
    "        output = self.i2o(combined)\n",
    "        output = self.softmax(output)\n",
    "        return output, hidden\n",
    "    \n",
    "    def init_hidden(self):\n",
    "        return torch.zeros(1, self.hidden_size)\n",
    "    \n",
    "category_lines, all_categories = load_data()\n",
    "n_categories = len(all_categories)\n",
    "\n",
    "n_hidden = 128\n",
    "rnn = RNN(N_LETTERS, n_hidden, n_categories)\n",
    "\n",
    "# one step\n",
    "input_tensor = letter_to_tensor('A')\n",
    "hidden_tensor = rnn.init_hidden()\n",
    "\n",
    "output, next_hidden = rnn(input_tensor, hidden_tensor)\n",
    "#print(output.size())\n",
    "#print(next_hidden.size())\n",
    "\n",
    "# whole sequence/name\n",
    "input_tensor = line_to_tensor('Albert')\n",
    "hidden_tensor = rnn.init_hidden()\n",
    "\n",
    "output, next_hidden = rnn(input_tensor[0], hidden_tensor)\n",
    "#print(output.size())\n",
    "#print(next_hidden.size())\n",
    "\n",
    "def category_from_output(output):\n",
    "    category_idx = torch.argmax(output).item()\n",
    "    return all_categories[category_idx]\n",
    "\n",
    "print(category_from_output(output))\n",
    "\n",
    "criterion = nn.NLLLoss()\n",
    "learning_rate = 0.005\n",
    "optimizer = torch.optim.SGD(rnn.parameters(), lr=learning_rate)\n",
    "\n",
    "def train(line_tensor, category_tensor):\n",
    "    hidden = rnn.init_hidden()\n",
    "    \n",
    "    for i in range(line_tensor.size()[0]):\n",
    "        output, hidden = rnn(line_tensor[i], hidden)\n",
    "        \n",
    "    loss = criterion(output, category_tensor)\n",
    "    \n",
    "    optimizer.zero_grad()\n",
    "    loss.backward()\n",
    "    optimizer.step()\n",
    "    \n",
    "    return output, loss.item()\n",
    "\n",
    "current_loss = 0\n",
    "all_losses = []\n",
    "plot_steps, print_steps = 1000, 5000\n",
    "n_iters = 100000\n",
    "for i in range(n_iters):\n",
    "    category, line, category_tensor, line_tensor = random_training_example(category_lines, all_categories)\n",
    "    \n",
    "    output, loss = train(line_tensor, category_tensor)\n",
    "    current_loss += loss \n",
    "    \n",
    "    if (i+1) % plot_steps == 0:\n",
    "        all_losses.append(current_loss / plot_steps)\n",
    "        current_loss = 0\n",
    "        \n",
    "    if (i+1) % print_steps == 0:\n",
    "        guess = category_from_output(output)\n",
    "        correct = \"CORRECT\" if guess == category else f\"WRONG ({category})\"\n",
    "        print(f\"{i+1} {(i+1)/n_iters*100} {loss:.4f} {line} / {guess} {correct}\")\n",
    "        \n",
    "    \n",
    "plt.figure()\n",
    "plt.plot(all_losses)\n",
    "plt.show()\n",
    "\n",
    "def predict(input_line):\n",
    "    print(f\"\\n> {input_line}\")\n",
    "    with torch.no_grad():\n",
    "        line_tensor = line_to_tensor(input_line)\n",
    "        \n",
    "        hidden = rnn.init_hidden()\n",
    "    \n",
    "        for i in range(line_tensor.size()[0]):\n",
    "            output, hidden = rnn(line_tensor[i], hidden)\n",
    "        \n",
    "        guess = category_from_output(output)\n",
    "        print(guess)\n",
    "    "
   ]
  },
  {
   "cell_type": "code",
   "execution_count": 5,
   "id": "31716417",
   "metadata": {},
   "outputs": [
    {
     "name": "stdout",
     "output_type": "stream",
     "text": [
      "\n",
      "> pho\n",
      "Portuguese\n",
      "\n",
      "> chan\n",
      "Irish\n",
      "\n",
      "> robert\n",
      "French\n",
      "\n",
      "> mary\n",
      "Scottish\n",
      "\n",
      "> ing\n",
      "Chinese\n",
      "\n",
      "> jing\n",
      "Chinese\n",
      "\n",
      "> Abalakoff\n",
      "Russian\n"
     ]
    }
   ],
   "source": [
    "while True:\n",
    "    sentence = input(\"Input:\")\n",
    "    if sentence.strip() == \"quit\" or sentence.strip() == \"\":\n",
    "        break\n",
    "    \n",
    "    predict(sentence)"
   ]
  },
  {
   "cell_type": "markdown",
   "id": "79a0a8fd",
   "metadata": {},
   "source": [
    "# LSTM"
   ]
  },
  {
   "cell_type": "markdown",
   "id": "10d2f46e",
   "metadata": {},
   "source": [
    "\n",
    "## Vanishing Gradients\n",
    "\n",
    "- One of the basic problems in RNN is it runs into vanishing gradients.\n",
    "- Language can have longer dependencies, the earliest word can affect a word that comes later.\n",
    "- For very deep neural networks, the gradient from output $\\hat{y}$ can have very hard time propagating backwards to affect the weights of earlier layers. In RNN we have same problem.\n",
    "- Exploding gradients can happen but it is easy to spot because the parameters value can blow causing `Nan` values. And, gradient clipping can be applied.\n",
    "\n",
    "## Model\n",
    "\n",
    "- LSTM model is similar to RNN but includes the concept of Gate and cell memory.\n",
    "\n",
    "![](https://www.researchgate.net/profile/Ayan-Chatterjee-11/publication/341735802/figure/fig4/AS:896548204462080@1590765157069/a-A-vanilla-LSTM-cell-b-Equations-of-a-vanilla-LSTM-cell.ppm)\n",
    "\n",
    "**RNN and LSTM comparison**\n",
    "\n",
    "![](https://i.stack.imgur.com/Iv3nU.png)\n"
   ]
  },
  {
   "cell_type": "markdown",
   "id": "f804211d",
   "metadata": {},
   "source": [
    "## Sentiment Analysis using IMDB dataset"
   ]
  },
  {
   "cell_type": "code",
   "execution_count": 15,
   "id": "b2a9db8d",
   "metadata": {},
   "outputs": [],
   "source": [
    "# Imports\n",
    "import torch\n",
    "import torch.nn.functional as F\n",
    "from torch.utils.data import DataLoader\n",
    "import torchtext\n",
    "from torchtext import data\n",
    "from torchtext.datasets import imdb\n",
    "import time\n",
    "import random\n",
    "# import pandas as pd\n",
    "from torchtext.vocab import vocab\n",
    "from collections import Counter, OrderedDict\n",
    "from torchtext.data.functional import simple_space_split\n",
    "from torchtext.data.functional import numericalize_tokens_from_iterator\n",
    "import numpy as np\n",
    "\n",
    "torch.backends.cudnn.deterministic = True"
   ]
  },
  {
   "cell_type": "markdown",
   "id": "e51f7948",
   "metadata": {},
   "source": [
    "### Hyperparameters"
   ]
  },
  {
   "cell_type": "code",
   "execution_count": 16,
   "id": "496de647",
   "metadata": {},
   "outputs": [],
   "source": [
    "RANDOM_SEED = 123\n",
    "torch.manual_seed(RANDOM_SEED)\n",
    "\n",
    "VOCABULARY_SIZE = 10000\n",
    "LEARNING_RATE = 0.005\n",
    "BATCH_SIZE = 64\n",
    "NUM_EPOCHS = 15\n",
    "DEVICE = torch.device('cuda:0' if torch.cuda.is_available() else 'cpu')\n",
    "\n",
    "EMBEDDING_DIM = 128\n",
    "HIDDEN_DIM = 256\n",
    "NUM_CLASSES = 2"
   ]
  },
  {
   "cell_type": "markdown",
   "id": "f13e4add",
   "metadata": {},
   "source": [
    "### Dataset Prep"
   ]
  },
  {
   "cell_type": "markdown",
   "id": "767765b5",
   "metadata": {},
   "source": [
    "#### Extra"
   ]
  },
  {
   "cell_type": "code",
   "execution_count": null,
   "id": "186da835",
   "metadata": {},
   "outputs": [],
   "source": [
    "# !wget https://github.com/rasbt/python-machine-learning-book-3rd-edition/raw/master/ch08/movie_data.csv.gz\n",
    "# !gunzip -f movie_data.csv.gz "
   ]
  },
  {
   "cell_type": "code",
   "execution_count": null,
   "id": "a6d518be",
   "metadata": {},
   "outputs": [],
   "source": [
    "# df = pd.read_csv('movie_data.csv')\n",
    "# print(df.head())\n",
    "# del df"
   ]
  },
  {
   "cell_type": "code",
   "execution_count": null,
   "id": "63d92667",
   "metadata": {},
   "outputs": [],
   "source": [
    "# !python -m spacy download en_core_web_sm"
   ]
  },
  {
   "cell_type": "code",
   "execution_count": null,
   "id": "ab1aa628",
   "metadata": {},
   "outputs": [],
   "source": [
    "# ### Defining the feature processing\n",
    "\n",
    "# TEXT = torchtext.data.field(\n",
    "#     tokenize='spacy', # default splits on whitespace\n",
    "#     tokenizer_language='en_core_web_sm'\n",
    "# )\n",
    "\n",
    "# ### Defining the label processing\n",
    "\n",
    "# LABEL = torchtext.legacy.data.LabelField(dtype=torch.long)\n",
    "\n",
    "# fields = [('TEXT_COLUMN_NAME', TEXT), ('LABEL_COLUMN_NAME', LABEL)]\n",
    "\n",
    "# ### Process the dataset\n",
    "# dataset = torchtext.legacy.data.TabularDataset(\n",
    "#     path='movie_data.csv', format='csv',\n",
    "#     skip_header=True, fields=fields)"
   ]
  },
  {
   "cell_type": "code",
   "execution_count": null,
   "id": "aed53eff",
   "metadata": {},
   "outputs": [],
   "source": [
    "torchtext.__version__"
   ]
  },
  {
   "cell_type": "markdown",
   "id": "81353134",
   "metadata": {},
   "source": [
    "#### Torchtext"
   ]
  },
  {
   "cell_type": "code",
   "execution_count": 17,
   "id": "c50d86ce",
   "metadata": {},
   "outputs": [],
   "source": [
    "!mkdir -p Datasets/LSTM"
   ]
  },
  {
   "cell_type": "code",
   "execution_count": 18,
   "id": "8dd31c16",
   "metadata": {},
   "outputs": [],
   "source": [
    "train_data, test_data = imdb.IMDB(root=\"Datasets/LSTM/\", split=('train','test'))"
   ]
  },
  {
   "cell_type": "code",
   "execution_count": 19,
   "id": "54d12300",
   "metadata": {},
   "outputs": [],
   "source": [
    "line_tokens = []\n",
    "label_tokens = []\n",
    "def tokenize(line):\n",
    "    return line.split()\n",
    "for label, line in train_data:\n",
    "    line_tokens += tokenize(line)\n",
    "    label_tokens += tokenize(label)\n"
   ]
  },
  {
   "cell_type": "code",
   "execution_count": 20,
   "id": "a2497fd7",
   "metadata": {},
   "outputs": [
    {
     "name": "stdout",
     "output_type": "stream",
     "text": [
      "['I', 'rented', 'I', 'AM', 'CURIOUS-YELLOW', 'from', 'my', 'video', 'store', 'because', 'of', 'all', 'the', 'controversy', 'that']\n",
      "['neg', 'neg', 'neg', 'neg', 'neg', 'neg', 'neg', 'neg', 'neg', 'neg', 'neg', 'neg', 'neg', 'neg', 'neg']\n"
     ]
    }
   ],
   "source": [
    "\n",
    "print(line_tokens[:15])\n",
    "print(label_tokens[:15])"
   ]
  },
  {
   "cell_type": "code",
   "execution_count": 21,
   "id": "c180d29b",
   "metadata": {},
   "outputs": [
    {
     "name": "stdout",
     "output_type": "stream",
     "text": [
      "0\n",
      "-1\n"
     ]
    }
   ],
   "source": [
    "unk_token = '<unk>'\n",
    "default_index = -1\n",
    "line_counter = Counter(line_tokens)\n",
    "# print(line_counter.most_common(10))\n",
    "line_sorted_by_freq_tuples = sorted(line_counter.items(), key=lambda x: x[1], reverse=True)\n",
    "# print(line_sorted_by_freq_tuples[:10])\n",
    "line_dict = OrderedDict(line_sorted_by_freq_tuples[:VOCABULARY_SIZE])\n",
    "line_vocab = vocab(line_dict, specials=[unk_token])\n",
    "line_vocab = line_vocab.to(DEVICE)\n",
    "line_vocab.set_default_index(default_index)\n",
    "print(line_vocab['<unk>']) #prints 0\n",
    "print(line_vocab['out of vocab']) #prints -1\n",
    "#make default index same as index of unk_token\n",
    "line_vocab.set_default_index(line_vocab[unk_token])\n",
    "line_vocab['out of vocab'] is line_vocab[unk_token] #prints True\n",
    "\n",
    "label_counter = Counter(label_tokens)\n",
    "sorted_by_freq_tuples = sorted(label_counter.items(), key=lambda x: x[1], reverse=True)\n",
    "label_dict = OrderedDict(sorted_by_freq_tuples)\n",
    "label_vocab = vocab(label_dict)\n",
    "label_vocab = label_vocab.to(DEVICE)\n"
   ]
  },
  {
   "cell_type": "code",
   "execution_count": 22,
   "id": "63459dc2",
   "metadata": {},
   "outputs": [
    {
     "name": "stdout",
     "output_type": "stream",
     "text": [
      "['<unk>', 'the', 'a', 'and', 'of', 'to', 'is', 'in', 'I', 'that']\n",
      "38\n",
      "OrderedDict([('neg', 12500), ('pos', 12500)])\n",
      "['neg', 'pos']\n",
      "{'pos': 1, 'neg': 0}\n"
     ]
    }
   ],
   "source": [
    "# Lines Vocab\n",
    "print(line_vocab.get_itos()[:10])\n",
    "print(line_vocab.get_stoi()['has'])\n",
    "# Label Vocab\n",
    "print(label_dict)\n",
    "print(label_vocab.get_itos())\n",
    "print(label_vocab.get_stoi())"
   ]
  },
  {
   "cell_type": "code",
   "execution_count": 23,
   "id": "631f8581",
   "metadata": {},
   "outputs": [
    {
     "name": "stdout",
     "output_type": "stream",
     "text": [
      "<generator object numericalize_tokens_from_iterator.<locals>.<genexpr> at 0x7f6ba9db4270>\n"
     ]
    }
   ],
   "source": [
    "for label,line in train_data:\n",
    "    line_ids_iter = numericalize_tokens_from_iterator(line_vocab, simple_space_split([line]))\n",
    "    print(next(line_ids_iter))\n",
    "    break"
   ]
  },
  {
   "cell_type": "code",
   "execution_count": 27,
   "id": "47b55ed5",
   "metadata": {},
   "outputs": [
    {
     "name": "stdout",
     "output_type": "stream",
     "text": [
      "[288]\n",
      "[100]\n",
      "[789, 10001]\n",
      "tensor([[1, 0, 0,  ..., 0, 0, 0],\n",
      "        [0, 0, 0,  ..., 0, 0, 0],\n",
      "        [0, 0, 0,  ..., 0, 0, 0],\n",
      "        ...,\n",
      "        [1, 0, 0,  ..., 0, 0, 0],\n",
      "        [1, 0, 0,  ..., 0, 0, 0],\n",
      "        [1, 0, 0,  ..., 0, 0, 0]])\n"
     ]
    }
   ],
   "source": [
    "for i, (label,line) in enumerate(train_data):\n",
    "    line_ids_iter = numericalize_tokens_from_iterator(line_vocab, simple_space_split([line]))\n",
    "    tens = torch.from_numpy(np.fromiter(next(line_ids_iter), int))\n",
    "    print(list(tens.size()))\n",
    "    tens = torch.nn.functional.pad(tens,(1,500),\"constant\", 0)\n",
    "    print(list(tens[:100].size()))\n",
    "    one_h = torch.nn.functional.one_hot(tens, len(line_vocab))\n",
    "    print(list(one_h.size()))\n",
    "    print(one_h)\n",
    "    break  \n"
   ]
  },
  {
   "cell_type": "code",
   "execution_count": 28,
   "id": "df773e07",
   "metadata": {},
   "outputs": [
    {
     "data": {
      "text/plain": [
       "10001"
      ]
     },
     "execution_count": 28,
     "metadata": {},
     "output_type": "execute_result"
    }
   ],
   "source": [
    "line_vocab.__len__()"
   ]
  },
  {
   "cell_type": "code",
   "execution_count": 29,
   "id": "3b48c747",
   "metadata": {},
   "outputs": [],
   "source": [
    "# import spacy\n",
    "\n",
    "\n",
    "# nlp = spacy.blank(\"en\")\n",
    "# for i, (label, line) in enumerate(train_data):\n",
    "#     tokenized = [tok.text for tok in nlp.tokenizer(line)]\n",
    "#     indexed = [line_vocab.__getitem__(t) for t in tokenized]\n",
    "#     length = [len(indexed)]\n",
    "#     tensor = torch.LongTensor(indexed).to(DEVICE)\n",
    "#     tensor = tensor.unsqueeze(1)    \n",
    "#     length_tensor = torch.LongTensor(length)\n",
    "#     print(len(tokenized))\n",
    "#     print(len(indexed))\n",
    "#     print(list(tensor.size()))\n",
    "#     if i >3 :\n",
    "#         break"
   ]
  },
  {
   "cell_type": "code",
   "execution_count": 30,
   "id": "4df99a85",
   "metadata": {},
   "outputs": [],
   "source": [
    "class Imdb_Iter_dataset(torch.utils.data.IterableDataset):\n",
    "    def __init__(self, iter_dataset):\n",
    "        super(Imdb_Iter_dataset).__init__()\n",
    "        self.dataset = iter_dataset \n",
    "    def padding(batch):\n",
    "        doc = [doc['line'] for doc in batch]\n",
    "        len_doc = [len(doc['input']) for doc in batch]\n",
    "        doc_pad = pad_sequence(doc, batch_first=True, padding_value=0)\n",
    "        return doc_pad, len_doc\n",
    "    def __iter__(self):\n",
    "        for label,line in self.dataset:\n",
    "            label_ids_iter = numericalize_tokens_from_iterator(label_vocab, simple_space_split([label]))\n",
    "            line_ids_iter = numericalize_tokens_from_iterator(line_vocab, simple_space_split([line]))\n",
    "            label_tensor = torch.from_numpy(np.fromiter(next(label_ids_iter), int))\n",
    "            line_tensor = torch.from_numpy(np.fromiter(next(line_ids_iter), int))\n",
    "            one_h = torch.nn.functional.one_hot(line_tensor[:30], len(line_vocab))\n",
    "            # torch.nn.functional.pad(input=[500, 10001]) .to(device=DEVICE)\n",
    "            yield {\"label\":label_tensor, \"line\":one_h}"
   ]
  },
  {
   "cell_type": "code",
   "execution_count": 18,
   "id": "7569acd8",
   "metadata": {},
   "outputs": [],
   "source": [
    "train_iter_data = Imdb_Iter_dataset(train_data)\n",
    "test_iter_data = Imdb_Iter_dataset(test_data)"
   ]
  },
  {
   "cell_type": "code",
   "execution_count": 19,
   "id": "22902c1a",
   "metadata": {},
   "outputs": [
    {
     "name": "stdout",
     "output_type": "stream",
     "text": [
      "torch.Size([30, 10001])\n",
      "torch.Size([30, 10001])\n",
      "torch.Size([30, 10001])\n",
      "torch.Size([30, 10001])\n"
     ]
    }
   ],
   "source": [
    "for i,j in enumerate(train_iter_data):\n",
    "    print(j['line'].size())\n",
    "    # print(j.size())\n",
    "    # print(k.size())\n",
    "    if i > 2 :\n",
    "        break"
   ]
  },
  {
   "cell_type": "code",
   "execution_count": 20,
   "id": "f8db013f",
   "metadata": {},
   "outputs": [],
   "source": [
    "# class SimpleCustomBatch:\n",
    "#     def __init__(self, data):\n",
    "#         print(len(data))\n",
    "#         transposed_data = list(zip(*data))\n",
    "#         self.inp = torch.stack(transposed_data[0], 0)\n",
    "#         self.tgt = torch.stack(transposed_data[1], 0)\n",
    "\n",
    "#     # custom memory pinning method on custom type\n",
    "#     def pin_memory(self):\n",
    "#         self.inp = self.inp.pin_memory()\n",
    "#         self.tgt = self.tgt.pin_memory()\n",
    "#         return self\n",
    "\n",
    "# def collate_wrapper(batch):\n",
    "#     return SimpleCustomBatch(batch)"
   ]
  },
  {
   "cell_type": "code",
   "execution_count": 21,
   "id": "2e9faa78",
   "metadata": {},
   "outputs": [],
   "source": [
    "\n",
    "train_loader = DataLoader(train_iter_data, batch_size=BATCH_SIZE)\n",
    "test_loader = DataLoader(test_iter_data, batch_size=BATCH_SIZE)"
   ]
  },
  {
   "cell_type": "code",
   "execution_count": 22,
   "id": "34191b66",
   "metadata": {},
   "outputs": [],
   "source": [
    "# for i,batch in enumerate(train_loader):\n",
    "#     print(i)\n",
    "#     print(type(batch[\"line\"]))\n",
    "#     break"
   ]
  },
  {
   "cell_type": "code",
   "execution_count": 23,
   "id": "c0c3b8a2",
   "metadata": {},
   "outputs": [],
   "source": [
    "# print('Train')\n",
    "# for batch in train_loader:\n",
    "#     print(f'Text matrix size: {len(batch[1])}')\n",
    "#     print(f'Text matrix type: {type(batch[1])}')\n",
    "#     print(f'Text matrix size: {batch[1]}')\n",
    "\n",
    "#     print(f'Target vector size: {len(batch[0])}')\n",
    "#     print(f'Target vector type: {type(batch[0])}')\n",
    "#     print(f'Target vector size: {batch[0]}')\n",
    "\n",
    "#     break"
   ]
  },
  {
   "cell_type": "code",
   "execution_count": 24,
   "id": "77381469",
   "metadata": {},
   "outputs": [],
   "source": [
    "class LSTM(torch.nn.Module):\n",
    "    \n",
    "    def __init__(self, input_dim, embedding_dim, hidden_dim, output_dim):\n",
    "        super().__init__()\n",
    "\n",
    "        self.embedding = torch.nn.Embedding(input_dim, embedding_dim)\n",
    "        self.rnn = torch.nn.LSTM(embedding_dim,\n",
    "                                 hidden_dim)        \n",
    "        \n",
    "        self.fc = torch.nn.Linear(hidden_dim, output_dim)\n",
    "        \n",
    "\n",
    "    def forward(self, text):\n",
    "        # text dim: [sentence length, batch size]\n",
    "        \n",
    "        embedded = self.embedding(text)\n",
    "        # embedded dim: [sentence length, batch size, embedding dim]\n",
    "        \n",
    "        output, (hidden, cell) = self.rnn(embedded)\n",
    "        # output dim: [sentence length, batch size, hidden dim]\n",
    "        # hidden dim: [1, batch size, hidden dim]\n",
    "\n",
    "        hidden.squeeze_(0)\n",
    "        # hidden dim: [batch size, hidden dim]\n",
    "        \n",
    "        output = self.fc(hidden)\n",
    "        return output"
   ]
  },
  {
   "cell_type": "code",
   "execution_count": 25,
   "id": "d70caeb9",
   "metadata": {},
   "outputs": [],
   "source": [
    "torch.manual_seed(RANDOM_SEED)\n",
    "model = LSTM(input_dim=len(line_vocab),\n",
    "            embedding_dim=EMBEDDING_DIM,\n",
    "            hidden_dim=HIDDEN_DIM,\n",
    "            output_dim=NUM_CLASSES # could use 1 for binary classification\n",
    ")\n",
    "\n",
    "model = model.to(DEVICE)\n",
    "optimizer = torch.optim.Adam(model.parameters(), lr=0.005)"
   ]
  },
  {
   "cell_type": "code",
   "execution_count": 26,
   "id": "02257329",
   "metadata": {},
   "outputs": [],
   "source": [
    "def compute_accuracy(model, data_loader, device):\n",
    "\n",
    "    with torch.no_grad():\n",
    "\n",
    "        correct_pred, num_examples = 0, 0\n",
    "\n",
    "        for i, (features, targets) in enumerate(data_loader):\n",
    "\n",
    "            features = features.to(device)\n",
    "            targets = targets.float().to(device)\n",
    "\n",
    "            logits = model(features)\n",
    "            _, predicted_labels = torch.max(logits, 1)\n",
    "\n",
    "            num_examples += targets.size(0)\n",
    "            correct_pred += (predicted_labels == targets).sum()\n",
    "    return correct_pred.float()/num_examples * 100"
   ]
  },
  {
   "cell_type": "code",
   "execution_count": null,
   "id": "77781dcd",
   "metadata": {},
   "outputs": [],
   "source": [
    "start_time = time.time()\n",
    "\n",
    "for epoch in range(NUM_EPOCHS):\n",
    "    model.train()\n",
    "    for batch_idx, batch_data in enumerate(train_loader):\n",
    "        \n",
    "        text = batch_data[\"line\"].to(DEVICE)\n",
    "        labels = batch_data[\"label\"].to(DEVICE)\n",
    "\n",
    "        ### FORWARD AND BACK PROP\n",
    "        logits = model(text)\n",
    "        loss = F.cross_entropy(logits, labels)\n",
    "        optimizer.zero_grad()\n",
    "        \n",
    "        loss.backward()\n",
    "        \n",
    "        ### UPDATE MODEL PARAMETERS\n",
    "        optimizer.step()\n",
    "        \n",
    "        ### LOGGING\n",
    "        if not batch_idx % 50:\n",
    "            print (f'Epoch: {epoch+1:03d}/{NUM_EPOCHS:03d} | '\n",
    "                   f'Batch {batch_idx:03d}/{len(train_loader):03d} | '\n",
    "                   f'Loss: {loss:.4f}')\n",
    "\n",
    "    with torch.set_grad_enabled(False):\n",
    "        print(f'training accuracy: '\n",
    "              f'{compute_accuracy(model, train_loader, DEVICE):.2f}%')\n",
    "        \n",
    "    print(f'Time elapsed: {(time.time() - start_time)/60:.2f} min')\n",
    "    \n",
    "print(f'Total Training Time: {(time.time() - start_time)/60:.2f} min')\n",
    "print(f'Test accuracy: {compute_accuracy(model, test_loader, DEVICE):.2f}%')"
   ]
  },
  {
   "cell_type": "markdown",
   "id": "24287623",
   "metadata": {},
   "source": [
    "# References"
   ]
  },
  {
   "cell_type": "markdown",
   "id": "95bc0740",
   "metadata": {},
   "source": [
    "* https://www.coursera.org/learn/nlp-sequence-models\n",
    "* https://github.com/cedricdeboom/character-level-rnn-datasets\n",
    "* https://github.com/MycroftAI/rnn-demo\n",
    "* https://github.com/python-engineer/pytorch-examples/tree/master/rnn-name-classification\n",
    "* https://github.com/rasbt/stat453-deep-learning-ss21/blob/main/L15/1_lstm.ipynb\n",
    "* https://github.com/aladdinpersson/Machine-Learning-Collection\n",
    "* https://towardsdatascience.com/rnn-recurrent-neural-networks-how-to-successfully-model-sequential-data-in-python-5a0b9e494f92\n",
    "* https://www.simplilearn.com/tutorials/deep-learning-tutorial/rnn\n",
    "* https://github.com/python-engineer/pytorch-examples/tree/master/rnn-lstm-gru"
   ]
  }
 ],
 "metadata": {
  "interpreter": {
   "hash": "009a5acded6e0d5bd336786bff52d2230829262ddf526a355327b86dcfc2d0a2"
  },
  "kernelspec": {
   "display_name": "Python 3.7 (pytorch)",
   "language": "python",
   "name": "pytorch"
  },
  "language_info": {
   "codemirror_mode": {
    "name": "ipython",
    "version": 3
   },
   "file_extension": ".py",
   "mimetype": "text/x-python",
   "name": "python",
   "nbconvert_exporter": "python",
   "pygments_lexer": "ipython3",
   "version": "3.8.13"
  }
 },
 "nbformat": 4,
 "nbformat_minor": 5
}
