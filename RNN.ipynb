{
 "cells": [
  {
   "cell_type": "markdown",
   "id": "099fb669",
   "metadata": {},
   "source": [
    "# RNN "
   ]
  },
  {
   "cell_type": "code",
   "execution_count": 1,
   "id": "9aa418d8",
   "metadata": {},
   "outputs": [
    {
     "name": "stderr",
     "output_type": "stream",
     "text": [
      "/home/sannin/miniconda3/envs/torch/lib/python3.8/site-packages/tqdm/auto.py:22: TqdmWarning: IProgress not found. Please update jupyter and ipywidgets. See https://ipywidgets.readthedocs.io/en/stable/user_install.html\n",
      "  from .autonotebook import tqdm as notebook_tqdm\n"
     ]
    }
   ],
   "source": [
    "import torch\n",
    "import torchvision                          # torch package for vision related things\n",
    "import torch.nn.functional as F             # Parameterless functions, like (some) activation functions\n",
    "import torchvision.datasets as datasets     # Standard datasets\n",
    "import torchvision.transforms as transforms # Transformations we can perform on our dataset for augmentation\n",
    "from torch import optim                     # For optimizers like SGD, Adam, etc.\n",
    "from torch import nn                        # All neural network modules\n",
    "from torch.utils.data import DataLoader     # Gives easier dataset management by creating mini batches etc.\n",
    "from tqdm import tqdm                       # For a nice progress bar!\n",
    "import matplotlib.pyplot as plt             # For Plots"
   ]
  },
  {
   "cell_type": "markdown",
   "id": "f55ebf3f",
   "metadata": {},
   "source": [
    "## Character-wise RNN"
   ]
  },
  {
   "cell_type": "code",
   "execution_count": 23,
   "id": "c99215d2",
   "metadata": {},
   "outputs": [],
   "source": [
    "!mkdir -p Datasets/Character-RNN"
   ]
  },
  {
   "cell_type": "code",
   "execution_count": 22,
   "id": "0081ee19",
   "metadata": {},
   "outputs": [
    {
     "name": "stdout",
     "output_type": "stream",
     "text": [
      "Archive:  Datasets/Character-RNN/data.zip\n",
      "   creating: Datasets/Character-RNN/data/\n",
      "  inflating: Datasets/Character-RNN/data/eng-fra.txt  \n",
      "   creating: Datasets/Character-RNN/data/names/\n",
      "  inflating: Datasets/Character-RNN/data/names/Arabic.txt  \n",
      "  inflating: Datasets/Character-RNN/data/names/Chinese.txt  \n",
      "  inflating: Datasets/Character-RNN/data/names/Czech.txt  \n",
      "  inflating: Datasets/Character-RNN/data/names/Dutch.txt  \n",
      "  inflating: Datasets/Character-RNN/data/names/English.txt  \n",
      "  inflating: Datasets/Character-RNN/data/names/French.txt  \n",
      "  inflating: Datasets/Character-RNN/data/names/German.txt  \n",
      "  inflating: Datasets/Character-RNN/data/names/Greek.txt  \n",
      "  inflating: Datasets/Character-RNN/data/names/Irish.txt  \n",
      "  inflating: Datasets/Character-RNN/data/names/Italian.txt  \n",
      "  inflating: Datasets/Character-RNN/data/names/Japanese.txt  \n",
      "  inflating: Datasets/Character-RNN/data/names/Korean.txt  \n",
      "  inflating: Datasets/Character-RNN/data/names/Polish.txt  \n",
      "  inflating: Datasets/Character-RNN/data/names/Portuguese.txt  \n",
      "  inflating: Datasets/Character-RNN/data/names/Russian.txt  \n",
      "  inflating: Datasets/Character-RNN/data/names/Scottish.txt  \n",
      "  inflating: Datasets/Character-RNN/data/names/Spanish.txt  \n",
      "  inflating: Datasets/Character-RNN/data/names/Vietnamese.txt  \n"
     ]
    }
   ],
   "source": [
    "# !wget https://download.pytorch.org/tutorial/data.zip -P Datasets/Character-RNN\n",
    "!unzip Datasets/Character-RNN/data.zip -d Datasets/Character-RNN/"
   ]
  },
  {
   "cell_type": "code",
   "execution_count": 19,
   "id": "30ec6f05",
   "metadata": {},
   "outputs": [
    {
     "name": "stdout",
     "output_type": "stream",
     "text": [
      "Arabic\n",
      "5000 5.0 2.7299 Stewart / Polish WRONG (Scottish)\n",
      "10000 10.0 2.2412 Herbert / Dutch WRONG (German)\n",
      "15000 15.0 2.5269 Gray / Arabic WRONG (Scottish)\n",
      "20000 20.0 0.9320 Yuan / Chinese CORRECT\n",
      "25000 25.0 2.0377 Tremble / Scottish WRONG (French)\n",
      "30000 30.0 2.8862 Ross / Greek WRONG (Scottish)\n",
      "35000 35.0 0.1433 Forakis / Greek CORRECT\n",
      "40000 40.0 3.1363 Konae / Czech WRONG (Japanese)\n",
      "45000 45.0 1.1502 Bruce / Scottish CORRECT\n",
      "50000 50.0 3.0244 Stauss / Greek WRONG (German)\n",
      "55000 55.00000000000001 1.5722 Binnington / Scottish WRONG (English)\n",
      "60000 60.0 1.5705 Dieter / French WRONG (German)\n",
      "65000 65.0 1.2691 Lieu / Vietnamese CORRECT\n",
      "70000 70.0 2.9259 Pan / Vietnamese WRONG (French)\n",
      "75000 75.0 2.0390 Otani / Italian WRONG (Japanese)\n",
      "80000 80.0 0.3414 Ansaldi / Italian CORRECT\n",
      "85000 85.0 1.0352 Frierdich / Czech CORRECT\n",
      "90000 90.0 2.6023 Whelan / Scottish WRONG (Irish)\n",
      "95000 95.0 1.2664 Nakane / Japanese CORRECT\n",
      "100000 100.0 1.1729 Acosta / Italian WRONG (Spanish)\n"
     ]
    },
    {
     "data": {
      "image/png": "[encoded data removed]",
      "text/plain": [
       "<Figure size 432x288 with 1 Axes>"
      ]
     },
     "metadata": {
      "needs_background": "light"
     },
     "output_type": "display_data"
    }
   ],
   "source": [
    "from utils import ALL_LETTERS, N_LETTERS\n",
    "from utils import load_data, letter_to_tensor, line_to_tensor, random_training_example\n",
    "\n",
    "\n",
    "class RNN(nn.Module):\n",
    "    # implement RNN from scratch rather than using nn.RNN\n",
    "    def __init__(self, input_size, hidden_size, output_size):\n",
    "        super(RNN, self).__init__()\n",
    "        \n",
    "        self.hidden_size = hidden_size\n",
    "        self.i2h = nn.Linear(input_size + hidden_size, hidden_size)\n",
    "        self.i2o = nn.Linear(input_size + hidden_size, output_size)\n",
    "        self.softmax = nn.LogSoftmax(dim=1)\n",
    "        \n",
    "    def forward(self, input_tensor, hidden_tensor):\n",
    "        combined = torch.cat((input_tensor, hidden_tensor), 1)\n",
    "        \n",
    "        hidden = self.i2h(combined)\n",
    "        output = self.i2o(combined)\n",
    "        output = self.softmax(output)\n",
    "        return output, hidden\n",
    "    \n",
    "    def init_hidden(self):\n",
    "        return torch.zeros(1, self.hidden_size)\n",
    "    \n",
    "category_lines, all_categories = load_data()\n",
    "n_categories = len(all_categories)\n",
    "\n",
    "n_hidden = 128\n",
    "rnn = RNN(N_LETTERS, n_hidden, n_categories)\n",
    "\n",
    "# one step\n",
    "input_tensor = letter_to_tensor('A')\n",
    "hidden_tensor = rnn.init_hidden()\n",
    "\n",
    "output, next_hidden = rnn(input_tensor, hidden_tensor)\n",
    "#print(output.size())\n",
    "#print(next_hidden.size())\n",
    "\n",
    "# whole sequence/name\n",
    "input_tensor = line_to_tensor('Albert')\n",
    "hidden_tensor = rnn.init_hidden()\n",
    "\n",
    "output, next_hidden = rnn(input_tensor[0], hidden_tensor)\n",
    "#print(output.size())\n",
    "#print(next_hidden.size())\n",
    "\n",
    "def category_from_output(output):\n",
    "    category_idx = torch.argmax(output).item()\n",
    "    return all_categories[category_idx]\n",
    "\n",
    "print(category_from_output(output))\n",
    "\n",
    "criterion = nn.NLLLoss()\n",
    "learning_rate = 0.005\n",
    "optimizer = torch.optim.SGD(rnn.parameters(), lr=learning_rate)\n",
    "\n",
    "def train(line_tensor, category_tensor):\n",
    "    hidden = rnn.init_hidden()\n",
    "    \n",
    "    for i in range(line_tensor.size()[0]):\n",
    "        output, hidden = rnn(line_tensor[i], hidden)\n",
    "        \n",
    "    loss = criterion(output, category_tensor)\n",
    "    \n",
    "    optimizer.zero_grad()\n",
    "    loss.backward()\n",
    "    optimizer.step()\n",
    "    \n",
    "    return output, loss.item()\n",
    "\n",
    "current_loss = 0\n",
    "all_losses = []\n",
    "plot_steps, print_steps = 1000, 5000\n",
    "n_iters = 100000\n",
    "for i in range(n_iters):\n",
    "    category, line, category_tensor, line_tensor = random_training_example(category_lines, all_categories)\n",
    "    \n",
    "    output, loss = train(line_tensor, category_tensor)\n",
    "    current_loss += loss \n",
    "    \n",
    "    if (i+1) % plot_steps == 0:\n",
    "        all_losses.append(current_loss / plot_steps)\n",
    "        current_loss = 0\n",
    "        \n",
    "    if (i+1) % print_steps == 0:\n",
    "        guess = category_from_output(output)\n",
    "        correct = \"CORRECT\" if guess == category else f\"WRONG ({category})\"\n",
    "        print(f\"{i+1} {(i+1)/n_iters*100} {loss:.4f} {line} / {guess} {correct}\")\n",
    "        \n",
    "    \n",
    "plt.figure()\n",
    "plt.plot(all_losses)\n",
    "plt.show()\n",
    "\n",
    "def predict(input_line):\n",
    "    print(f\"\\n> {input_line}\")\n",
    "    with torch.no_grad():\n",
    "        line_tensor = line_to_tensor(input_line)\n",
    "        \n",
    "        hidden = rnn.init_hidden()\n",
    "    \n",
    "        for i in range(line_tensor.size()[0]):\n",
    "            output, hidden = rnn(line_tensor[i], hidden)\n",
    "        \n",
    "        guess = category_from_output(output)\n",
    "        print(guess)\n",
    "    "
   ]
  },
  {
   "cell_type": "code",
   "execution_count": 10,
   "id": "31716417",
   "metadata": {},
   "outputs": [
    {
     "name": "stdout",
     "output_type": "stream",
     "text": [
      "\n",
      "> Bélanger\n",
      "French\n",
      "\n",
      "> Albert\n",
      "French\n",
      "\n",
      "> Duong\n",
      "Vietnamese\n",
      "\n",
      "> Duong\n",
      "Vietnamese\n",
      "\n",
      "> Vuu\n",
      "Vietnamese\n",
      "\n",
      "> Belesis\n",
      "Greek\n",
      "\n",
      "> Belesis\n",
      "Greek\n",
      "\n",
      "> Breda\n",
      "Spanish\n",
      "\n",
      "> Breda\n",
      "Spanish\n",
      "\n",
      "> Agthoven\n",
      "Dutch\n",
      "\n",
      "> Kloet\n",
      "Dutch\n"
     ]
    }
   ],
   "source": [
    "while True:\n",
    "    sentence = input(\"Input:\")\n",
    "    if sentence.strip() == \"quit\" or sentence.strip() == \"\":\n",
    "        break\n",
    "    \n",
    "    predict(sentence)"
   ]
  },
  {
   "cell_type": "markdown",
   "id": "79a0a8fd",
   "metadata": {},
   "source": [
    "# LSTM"
   ]
  },
  {
   "cell_type": "markdown",
   "id": "f804211d",
   "metadata": {},
   "source": [
    "## Sentiment Analysis using IMDB dataset"
   ]
  },
  {
   "cell_type": "code",
   "execution_count": 24,
   "id": "b2a9db8d",
   "metadata": {},
   "outputs": [],
   "source": [
    "# Imports\n",
    "import torch\n",
    "import torch.nn.functional as F\n",
    "import torchtext\n",
    "from torchtext import data\n",
    "from torchtext.datasets import imdb\n",
    "import time\n",
    "import random\n",
    "# import pandas as pd\n",
    "from torchtext.vocab import vocab\n",
    "from collections import Counter, OrderedDict\n",
    "\n",
    "torch.backends.cudnn.deterministic = True"
   ]
  },
  {
   "cell_type": "markdown",
   "id": "e51f7948",
   "metadata": {},
   "source": [
    "### Hyperparameters"
   ]
  },
  {
   "cell_type": "code",
   "execution_count": 34,
   "id": "496de647",
   "metadata": {},
   "outputs": [],
   "source": [
    "RANDOM_SEED = 123\n",
    "torch.manual_seed(RANDOM_SEED)\n",
    "\n",
    "VOCABULARY_SIZE = 20000\n",
    "LEARNING_RATE = 0.005\n",
    "BATCH_SIZE = 128\n",
    "NUM_EPOCHS = 15\n",
    "DEVICE = torch.device('cuda:1' if torch.cuda.is_available() else 'cpu')\n",
    "\n",
    "EMBEDDING_DIM = 128\n",
    "HIDDEN_DIM = 256\n",
    "NUM_CLASSES = 2"
   ]
  },
  {
   "cell_type": "markdown",
   "id": "f13e4add",
   "metadata": {},
   "source": [
    "### Dataset Prep"
   ]
  },
  {
   "cell_type": "code",
   "execution_count": null,
   "id": "186da835",
   "metadata": {},
   "outputs": [],
   "source": [
    "# !wget https://github.com/rasbt/python-machine-learning-book-3rd-edition/raw/master/ch08/movie_data.csv.gz\n",
    "# !gunzip -f movie_data.csv.gz "
   ]
  },
  {
   "cell_type": "code",
   "execution_count": null,
   "id": "a6d518be",
   "metadata": {},
   "outputs": [],
   "source": [
    "# df = pd.read_csv('movie_data.csv')\n",
    "# print(df.head())\n",
    "# del df"
   ]
  },
  {
   "cell_type": "code",
   "execution_count": null,
   "id": "63d92667",
   "metadata": {},
   "outputs": [],
   "source": [
    "# !python -m spacy download en_core_web_sm"
   ]
  },
  {
   "cell_type": "code",
   "execution_count": 44,
   "metadata": {},
   "outputs": [],
   "source": [
    "# ### Defining the feature processing\n",
    "\n",
    "# TEXT = torchtext.data.field(\n",
    "#     tokenize='spacy', # default splits on whitespace\n",
    "#     tokenizer_language='en_core_web_sm'\n",
    "# )\n",
    "\n",
    "# ### Defining the label processing\n",
    "\n",
    "# LABEL = torchtext.legacy.data.LabelField(dtype=torch.long)\n",
    "\n",
    "# fields = [('TEXT_COLUMN_NAME', TEXT), ('LABEL_COLUMN_NAME', LABEL)]\n",
    "\n",
    "# ### Process the dataset\n",
    "# dataset = torchtext.legacy.data.TabularDataset(\n",
    "#     path='movie_data.csv', format='csv',\n",
    "#     skip_header=True, fields=fields)"
   ]
  },
  {
   "cell_type": "code",
   "execution_count": 4,
   "id": "aed53eff",
   "metadata": {},
   "outputs": [
    {
     "data": {
      "text/plain": [
       "'0.12.0'"
      ]
     },
     "execution_count": 4,
     "metadata": {},
     "output_type": "execute_result"
    }
   ],
   "source": [
    "torchtext.__version__"
   ]
  },
  {
   "cell_type": "code",
   "execution_count": 5,
   "id": "c50d86ce",
   "metadata": {},
   "outputs": [],
   "source": [
    "!mkdir -p Datasets/LSTM"
   ]
  },
  {
   "cell_type": "code",
   "execution_count": 6,
   "id": "8dd31c16",
   "metadata": {},
   "outputs": [
    {
     "name": "stderr",
     "output_type": "stream",
     "text": [
      "/home/sannin/miniconda3/envs/torch/lib/python3.8/site-packages/torch/utils/data/datapipes/utils/common.py:24: UserWarning: Lambda function is not supported for pickle, please use regular python function or functools.partial instead.\n",
      "  warnings.warn(\n",
      "/home/sannin/miniconda3/envs/torch/lib/python3.8/site-packages/torch/utils/data/datapipes/iter/selecting.py:54: UserWarning: Lambda function is not supported for pickle, please use regular python function or functools.partial instead.\n",
      "  warnings.warn(\"Lambda function is not supported for pickle, please use \"\n"
     ]
    }
   ],
   "source": [
    "train_data, test_data = imdb.IMDB(root=\"Datasets/LSTM/\", split=('train','test'))"
   ]
  },
  {
   "cell_type": "code",
   "execution_count": 48,
   "id": "54d12300",
   "metadata": {},
   "outputs": [
    {
     "name": "stdout",
     "output_type": "stream",
     "text": [
      "['Zentropa', 'has', 'much', 'in', 'common', 'with', 'The', 'Third', 'Man,', 'another']\n",
      "['pos', 'pos', 'pos', 'pos', 'pos', 'pos', 'pos', 'pos', 'pos', 'pos']\n"
     ]
    }
   ],
   "source": [
    "line_tokens = []\n",
    "label_tokens = []\n",
    "def tokenize(line):\n",
    "    return line.split()\n",
    "for label, line in train_data:\n",
    "    line_tokens += tokenize(line)\n",
    "    label_tokens += tokenize(label)\n",
    "\n",
    "print(line_tokens[:10])\n",
    "print(label_tokens[:10])"
   ]
  },
  {
   "cell_type": "code",
   "execution_count": 54,
   "id": "c180d29b",
   "metadata": {},
   "outputs": [
    {
     "name": "stdout",
     "output_type": "stream",
     "text": [
      "0\n",
      "-1\n"
     ]
    }
   ],
   "source": [
    "unk_token = '<unk>'\n",
    "default_index = -1\n",
    "line_vocab = vocab(OrderedDict([(token, 1) for token in line_tokens]), specials=[unk_token])\n",
    "line_vocab = line_vocab.to(DEVICE)\n",
    "line_vocab.set_default_index(default_index)\n",
    "print(line_vocab['<unk>']) #prints 0\n",
    "print(line_vocab['out of vocab']) #prints -1\n",
    "#make default index same as index of unk_token\n",
    "line_vocab.set_default_index(line_vocab[unk_token])\n",
    "line_vocab['out of vocab'] is line_vocab[unk_token] #prints True\n",
    "\n",
    "label_vocab = vocab(OrderedDict([(token, 1) for token in label_tokens]))\n",
    "label_vocab = label_vocab.to(DEVICE)\n"
   ]
  },
  {
   "cell_type": "code",
   "execution_count": 55,
   "id": "63459dc2",
   "metadata": {},
   "outputs": [
    {
     "name": "stdout",
     "output_type": "stream",
     "text": [
      "['<unk>', 'Zentropa', 'has', 'much', 'in', 'common', 'with', 'The', 'Third', 'Man,']\n",
      "2\n",
      "['pos', 'neg']\n",
      "{'neg': 1, 'pos': 0}\n",
      "Vocab()\n"
     ]
    }
   ],
   "source": [
    "print(line_vocab.get_itos()[:10])\n",
    "print(line_vocab.get_stoi()['has'])\n",
    "print(label_vocab.get_itos())\n",
    "print(label_vocab.get_stoi())"
   ]
  },
  {
   "cell_type": "code",
   "execution_count": 44,
   "id": "2e9faa78",
   "metadata": {},
   "outputs": [
    {
     "data": {
      "text/plain": [
       "2"
      ]
     },
     "execution_count": 44,
     "metadata": {},
     "output_type": "execute_result"
    }
   ],
   "source": []
  },
  {
   "cell_type": "code",
   "execution_count": null,
   "id": "34191b66",
   "metadata": {},
   "outputs": [],
   "source": []
  },
  {
   "cell_type": "markdown",
   "id": "24287623",
   "metadata": {},
   "source": [
    "# References"
   ]
  },
  {
   "cell_type": "markdown",
   "id": "95bc0740",
   "metadata": {},
   "source": [
    "* https://www.coursera.org/learn/nlp-sequence-models\n",
    "* https://github.com/cedricdeboom/character-level-rnn-datasets\n",
    "* https://github.com/MycroftAI/rnn-demo\n",
    "* https://github.com/python-engineer/pytorch-examples/tree/master/rnn-name-classification\n",
    "* https://github.com/rasbt/stat453-deep-learning-ss21/blob/main/L15/1_lstm.ipynb\n",
    "* https://github.com/aladdinpersson/Machine-Learning-Collection\n",
    "* https://towardsdatascience.com/rnn-recurrent-neural-networks-how-to-successfully-model-sequential-data-in-python-5a0b9e494f92\n",
    "* https://www.simplilearn.com/tutorials/deep-learning-tutorial/rnn\n",
    "* https://github.com/python-engineer/pytorch-examples/tree/master/rnn-lstm-gru"
   ]
  }
 ],
 "metadata": {
  "interpreter": {
   "hash": "009a5acded6e0d5bd336786bff52d2230829262ddf526a355327b86dcfc2d0a2"
  },
  "kernelspec": {
   "display_name": "Python 3.7 (pytorch)",
   "language": "python",
   "name": "python3"
  },
  "language_info": {
   "codemirror_mode": {
    "name": "ipython",
    "version": 3
   },
   "file_extension": ".py",
   "mimetype": "text/x-python",
   "name": "python",
   "nbconvert_exporter": "python",
   "pygments_lexer": "ipython3",
   "version": "3.8.13"
  }
 },
 "nbformat": 4,
 "nbformat_minor": 5
}
